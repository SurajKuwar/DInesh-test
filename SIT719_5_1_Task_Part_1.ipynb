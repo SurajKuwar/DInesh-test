{
  "cells": [
    {
      "cell_type": "markdown",
      "metadata": {
        "id": "view-in-github",
        "colab_type": "text"
      },
      "source": [
        "<a href=\"https://colab.research.google.com/github/SurajKuwar/DInesh-test/blob/main/SIT719_5_1_Task_Part_1.ipynb\" target=\"_parent\"><img src=\"https://colab.research.google.com/assets/colab-badge.svg\" alt=\"Open In Colab\"/></a>"
      ]
    },
    {
      "cell_type": "markdown",
      "metadata": {
        "id": "DbAjtBtHYCwR"
      },
      "source": [
        "# SECTION 1: DECLARE THE MODULES"
      ]
    },
    {
      "cell_type": "code",
      "execution_count": null,
      "metadata": {
        "id": "gGBe47YUYCwU"
      },
      "outputs": [],
      "source": [
        "import os\n",
        "from collections import defaultdict\n",
        "import pandas as pd\n",
        "import numpy as np\n",
        "import matplotlib.pyplot as plt\n",
        "\n",
        "import warnings\n",
        "warnings.filterwarnings('ignore')\n",
        "\n",
        "\n"
      ]
    },
    {
      "cell_type": "markdown",
      "metadata": {
        "id": "rtZdjEf5YCwV"
      },
      "source": [
        "# SECTION 2: Data import and preprocess\n",
        "#Run this but dont worry if it does not make any sense Jump to SECTION 3 that is related to your HD task."
      ]
    },
    {
      "cell_type": "code",
      "execution_count": null,
      "metadata": {
        "id": "2hKgCSEIYCwW",
        "outputId": "23ee43e6-33e3-4a32-9449-a7ebcab575ac",
        "colab": {
          "base_uri": "https://localhost:8080/"
        }
      },
      "outputs": [
        {
          "output_type": "stream",
          "name": "stdout",
          "text": [
            "Looking in indexes: https://pypi.org/simple, https://us-python.pkg.dev/colab-wheels/public/simple/\n",
            "Collecting wget\n",
            "  Downloading wget-3.2.zip (10 kB)\n",
            "  Preparing metadata (setup.py) ... \u001b[?25l\u001b[?25hdone\n",
            "Building wheels for collected packages: wget\n",
            "  Building wheel for wget (setup.py) ... \u001b[?25l\u001b[?25hdone\n",
            "  Created wheel for wget: filename=wget-3.2-py3-none-any.whl size=9676 sha256=7562c6f463a1c993e6de3c587fc4c9d1ad2c600268ae5abbcdc2a7d17008f24d\n",
            "  Stored in directory: /root/.cache/pip/wheels/8b/f1/7f/5c94f0a7a505ca1c81cd1d9208ae2064675d97582078e6c769\n",
            "Successfully built wget\n",
            "Installing collected packages: wget\n",
            "Successfully installed wget-3.2\n"
          ]
        }
      ],
      "source": [
        "!pip install wget\n",
        "import wget\n",
        "    \n",
        "link_to_data = 'https://raw.githubusercontent.com/SIT719/2020-S2/master/data/Week_5_NSL-KDD-Dataset/training_attack_types.txt?raw=true'\n",
        "DataSet = wget.download(link_to_data) "
      ]
    },
    {
      "cell_type": "markdown",
      "source": [
        "# New Section"
      ],
      "metadata": {
        "id": "7eBgSNSdfCZh"
      }
    },
    {
      "cell_type": "code",
      "execution_count": null,
      "metadata": {
        "id": "Nmjc9II5YCwW",
        "outputId": "68be3ee6-2bc6-4776-9288-24f7236f70f5",
        "colab": {
          "base_uri": "https://localhost:8080/",
          "height": 35
        }
      },
      "outputs": [
        {
          "output_type": "execute_result",
          "data": {
            "text/plain": [
              "'training_attack_types.txt'"
            ],
            "application/vnd.google.colaboratory.intrinsic+json": {
              "type": "string"
            }
          },
          "metadata": {},
          "execution_count": 4
        }
      ],
      "source": [
        "DataSet"
      ]
    },
    {
      "cell_type": "code",
      "execution_count": null,
      "metadata": {
        "id": "NsZPr2lLYCwX"
      },
      "outputs": [],
      "source": [
        "header_names = ['duration', 'protocol_type', 'service', 'flag', 'src_bytes', 'dst_bytes', 'land', 'wrong_fragment', 'urgent', 'hot', 'num_failed_logins', 'logged_in', 'num_compromised', 'root_shell', 'su_attempted', 'num_root', 'num_file_creations', 'num_shells', 'num_access_files', 'num_outbound_cmds', 'is_host_login', 'is_guest_login', 'count', 'srv_count', 'serror_rate', 'srv_serror_rate', 'rerror_rate', 'srv_rerror_rate', 'same_srv_rate', 'diff_srv_rate', 'srv_diff_host_rate', 'dst_host_count', 'dst_host_srv_count', 'dst_host_same_srv_rate', 'dst_host_diff_srv_rate', 'dst_host_same_src_port_rate', 'dst_host_srv_diff_host_rate', 'dst_host_serror_rate', 'dst_host_srv_serror_rate', 'dst_host_rerror_rate', 'dst_host_srv_rerror_rate', 'attack_type', 'success_pred']\n",
        "\n",
        "\n",
        "# Differentiating between nominal, binary, and numeric features\n",
        "\n",
        "# root_shell is marked as a continuous feature in the kddcup.names \n",
        "# file, but it is supposed to be a binary feature according to the \n",
        "# dataset documentation\n",
        "\n",
        "# training_attack_types.txt maps each of the 22 different attacks to 1 of 4 categories\n",
        "# file obtained from http://kdd.ics.uci.edu/databases/kddcup99/training_attack_types\n",
        "\n",
        "col_names = np.array(header_names)\n",
        "\n",
        "nominal_idx = [1, 2, 3]\n",
        "binary_idx = [6, 11, 13, 14, 20, 21]\n",
        "numeric_idx = list(set(range(41)).difference(nominal_idx).difference(binary_idx))\n",
        "\n",
        "nominal_cols = col_names[nominal_idx].tolist()\n",
        "binary_cols = col_names[binary_idx].tolist()\n",
        "numeric_cols = col_names[numeric_idx].tolist()"
      ]
    },
    {
      "cell_type": "code",
      "execution_count": null,
      "metadata": {
        "id": "qRM8KLwWYCwX"
      },
      "outputs": [],
      "source": [
        "# training_attack_types.txt maps each of the 22 different attacks to 1 of 4 categories\n",
        "# file obtained from http://kdd.ics.uci.edu/databases/kddcup99/training_attack_types\n",
        "\n",
        "category = defaultdict(list)\n",
        "category['benign'].append('normal')\n",
        "\n",
        "with open(DataSet, 'r') as f:\n",
        "    for line in f.readlines():\n",
        "        attack, cat = line.strip().split(' ')\n",
        "        category[cat].append(attack)\n",
        "\n",
        "attack_mapping = dict((v,k) for k in category for v in category[k])"
      ]
    },
    {
      "cell_type": "code",
      "execution_count": null,
      "metadata": {
        "id": "W2YXj8ARYCwX",
        "outputId": "a03e4efd-757e-469e-c85d-4c3939c233ee",
        "colab": {
          "base_uri": "https://localhost:8080/"
        }
      },
      "outputs": [
        {
          "output_type": "execute_result",
          "data": {
            "text/plain": [
              "{'normal': 'benign',\n",
              " 'apache2': 'dos',\n",
              " 'back': 'dos',\n",
              " 'mailbomb': 'dos',\n",
              " 'processtable': 'dos',\n",
              " 'snmpgetattack': 'dos',\n",
              " 'teardrop': 'dos',\n",
              " 'smurf': 'dos',\n",
              " 'land': 'dos',\n",
              " 'neptune': 'dos',\n",
              " 'pod': 'dos',\n",
              " 'udpstorm': 'dos',\n",
              " 'ps': 'u2r',\n",
              " 'buffer_overflow': 'u2r',\n",
              " 'perl': 'u2r',\n",
              " 'rootkit': 'u2r',\n",
              " 'loadmodule': 'u2r',\n",
              " 'xterm': 'u2r',\n",
              " 'sqlattack': 'u2r',\n",
              " 'httptunnel': 'u2r',\n",
              " 'ftp_write': 'r2l',\n",
              " 'guess_passwd': 'r2l',\n",
              " 'snmpguess': 'r2l',\n",
              " 'imap': 'r2l',\n",
              " 'spy': 'r2l',\n",
              " 'warezclient': 'r2l',\n",
              " 'warezmaster': 'r2l',\n",
              " 'multihop': 'r2l',\n",
              " 'phf': 'r2l',\n",
              " 'named': 'r2l',\n",
              " 'sendmail': 'r2l',\n",
              " 'xlock': 'r2l',\n",
              " 'xsnoop': 'r2l',\n",
              " 'worm': 'probe',\n",
              " 'nmap': 'probe',\n",
              " 'ipsweep': 'probe',\n",
              " 'portsweep': 'probe',\n",
              " 'satan': 'probe',\n",
              " 'mscan': 'probe',\n",
              " 'saint': 'probe'}"
            ]
          },
          "metadata": {},
          "execution_count": 7
        }
      ],
      "source": [
        "attack_mapping"
      ]
    },
    {
      "cell_type": "code",
      "execution_count": null,
      "metadata": {
        "id": "0oHYMw4PYCwX"
      },
      "outputs": [],
      "source": [
        "#Processing Training Data\n",
        "\n",
        "train_file='https://raw.githubusercontent.com/SIT719/2020-S2/master/data/Week_5_NSL-KDD-Dataset/KDDTrain%2B.txt'\n",
        "\n",
        "\n",
        "\n",
        "train_df = pd.read_csv(train_file, names=header_names)\n",
        "\n",
        "train_df['attack_category'] = train_df['attack_type'] \\\n",
        "                                .map(lambda x: attack_mapping[x])\n",
        "\n",
        "train_df.drop(['success_pred'], axis=1, inplace=True)\n",
        "\n",
        "\n",
        "\n",
        "\n"
      ]
    },
    {
      "cell_type": "code",
      "execution_count": null,
      "metadata": {
        "id": "cONhBR3qYCwY"
      },
      "outputs": [],
      "source": [
        "#Processing test Data\n",
        "test_file='https://raw.githubusercontent.com/SIT719/2020-S2/master/data/Week_5_NSL-KDD-Dataset/KDDTest%2B.txt'\n",
        "\n",
        "test_df = pd.read_csv(test_file, names=header_names)\n",
        "test_df['attack_category'] = test_df['attack_type'] \\\n",
        "                                .map(lambda x: attack_mapping[x])\n",
        "test_df.drop(['success_pred'], axis=1, inplace=True)"
      ]
    },
    {
      "cell_type": "code",
      "execution_count": null,
      "metadata": {
        "scrolled": true,
        "id": "vxsSDubkYCwY",
        "outputId": "e0880dbb-a63a-4481-b698-49a96c3c55f5",
        "colab": {
          "base_uri": "https://localhost:8080/",
          "height": 567
        }
      },
      "outputs": [
        {
          "output_type": "display_data",
          "data": {
            "text/plain": [
              "<Figure size 2000x1000 with 1 Axes>"
            ],
            "image/png": "[encoded data removed]"
          },
          "metadata": {}
        }
      ],
      "source": [
        "train_attack_types = train_df['attack_type'].value_counts()\n",
        "train_attack_cats = train_df['attack_category'].value_counts()\n",
        "\n",
        "test_attack_types = test_df['attack_type'].value_counts()\n",
        "test_attack_cats = test_df['attack_category'].value_counts()\n",
        "\n",
        "train_attack_types.plot(kind='barh', figsize=(20,10), fontsize=20)\n",
        "\n",
        "train_attack_cats.plot(kind='barh', figsize=(20,10), fontsize=30)\n",
        "\n",
        "train_df[binary_cols].describe().transpose()\n",
        "train_df.groupby(['su_attempted']).size()\n",
        "train_df['su_attempted'].replace(2, 0, inplace=True)\n",
        "test_df['su_attempted'].replace(2, 0, inplace=True)\n",
        "train_df.groupby(['su_attempted']).size()\n",
        "train_df.groupby(['num_outbound_cmds']).size()\n",
        "\n",
        "#Now, that's not a very useful feature - let's drop it from the dataset\n",
        "\n",
        "train_df.drop('num_outbound_cmds', axis = 1, inplace=True)\n",
        "test_df.drop('num_outbound_cmds', axis = 1, inplace=True)\n",
        "numeric_cols.remove('num_outbound_cmds')\n",
        "\n",
        "\n",
        "\n",
        "#Data Preparation\n",
        "\n",
        "train_Y = train_df['attack_category']\n",
        "train_x_raw = train_df.drop(['attack_category','attack_type'], axis=1)\n",
        "test_Y = test_df['attack_category']\n",
        "test_x_raw = test_df.drop(['attack_category','attack_type'], axis=1)\n",
        "\n",
        "\n",
        "combined_df_raw = pd.concat([train_x_raw, test_x_raw])\n",
        "combined_df = pd.get_dummies(combined_df_raw, columns=nominal_cols, drop_first=True)\n",
        "\n",
        "train_x = combined_df[:len(train_x_raw)]\n",
        "test_x = combined_df[len(train_x_raw):]\n",
        "\n",
        "# Store dummy variable feature names\n",
        "dummy_variables = list(set(train_x)-set(combined_df_raw))\n",
        "\n",
        "#execute the commands in console\n",
        "train_x.describe()\n",
        "train_x['duration'].describe()\n",
        "# Experimenting with StandardScaler on the single 'duration' feature\n",
        "from sklearn.preprocessing import StandardScaler\n",
        "\n",
        "durations = train_x['duration'].values.reshape(-1, 1)\n",
        "standard_scaler = StandardScaler().fit(durations)\n",
        "scaled_durations = standard_scaler.transform(durations)\n",
        "pd.Series(scaled_durations.flatten()).describe()\n",
        "\n",
        "# Experimenting with MinMaxScaler on the single 'duration' feature\n",
        "from sklearn.preprocessing import MinMaxScaler\n",
        "\n",
        "min_max_scaler = MinMaxScaler().fit(durations)\n",
        "min_max_scaled_durations = min_max_scaler.transform(durations)\n",
        "pd.Series(min_max_scaled_durations.flatten()).describe()\n",
        "\n",
        "# Experimenting with RobustScaler on the single 'duration' feature\n",
        "from sklearn.preprocessing import RobustScaler\n",
        "\n",
        "min_max_scaler = RobustScaler().fit(durations)\n",
        "robust_scaled_durations = min_max_scaler.transform(durations)\n",
        "pd.Series(robust_scaled_durations.flatten()).describe()\n",
        "\n",
        "# Experimenting with MaxAbsScaler on the single 'duration' feature\n",
        "from sklearn.preprocessing import MaxAbsScaler\n",
        "\n",
        "max_Abs_scaler = MaxAbsScaler().fit(durations)\n",
        "robust_scaled_durations = max_Abs_scaler.transform(durations)\n",
        "pd.Series(robust_scaled_durations.flatten()).describe()\n",
        "\n",
        "# Let's proceed with StandardScaler- Apply to all the numeric columns\n",
        "\n",
        "standard_scaler = StandardScaler().fit(train_x[numeric_cols])\n",
        "\n",
        "train_x[numeric_cols] = \\\n",
        "    standard_scaler.transform(train_x[numeric_cols])\n",
        "\n",
        "test_x[numeric_cols] = \\\n",
        "    standard_scaler.transform(test_x[numeric_cols])\n",
        "    \n",
        "train_x.describe()\n",
        "\n",
        "\n",
        "\n",
        "train_Y_bin = train_Y.apply(lambda x: 0 if x is 'benign' else 1)\n",
        "test_Y_bin = test_Y.apply(lambda x: 0 if x is 'benign' else 1)\n"
      ]
    },
    {
      "cell_type": "markdown",
      "metadata": {
        "id": "FNrpF9hSYCwZ"
      },
      "source": [
        "# SECTION 3: Multi class classification\n",
        "#This is the section where you have to add other algorithms, tune algorithms and visualize to compare and analyze algorithms"
      ]
    },
    {
      "cell_type": "code",
      "execution_count": null,
      "metadata": {
        "id": "XmkTumRXYCwZ",
        "outputId": "9dd9a9b4-7ee7-4b97-f688-4e2d4dad5906",
        "colab": {
          "base_uri": "https://localhost:8080/"
        }
      },
      "outputs": [
        {
          "output_type": "stream",
          "name": "stdout",
          "text": [
            "[[9365   56  289    1    0]\n",
            " [1541 5998   97    0    0]\n",
            " [ 677  220 1526    0    0]\n",
            " [2278    1   14  277    4]\n",
            " [ 175    0    5    5   15]]\n",
            "0.2378903477643719\n"
          ]
        }
      ],
      "source": [
        "# 5-class classification version\n",
        "from sklearn.tree import DecisionTreeClassifier\n",
        "from sklearn.metrics import confusion_matrix, zero_one_loss\n",
        "\n",
        "classifier = DecisionTreeClassifier(random_state=17)\n",
        "classifier.fit(train_x, train_Y)\n",
        "\n",
        "pred_y = classifier.predict(test_x)\n",
        "\n",
        "results = confusion_matrix(test_Y, pred_y)\n",
        "error = zero_one_loss(test_Y, pred_y)\n",
        "\n",
        "print(results)\n",
        "print(error)\n"
      ]
    },
    {
      "cell_type": "code",
      "execution_count": null,
      "metadata": {
        "id": "ak-mX10wYCwZ",
        "outputId": "a98506f3-783a-4627-efb9-e06f0736120a",
        "colab": {
          "base_uri": "https://localhost:8080/"
        }
      },
      "outputs": [
        {
          "output_type": "stream",
          "name": "stdout",
          "text": [
            "[[9365   56  289    1    0]\n",
            " [1541 5998   97    0    0]\n",
            " [ 677  220 1526    0    0]\n",
            " [2278    1   14  277    4]\n",
            " [ 175    0    5    5   15]]\n",
            "              precision    recall  f1-score   support\n",
            "\n",
            "      benign       0.67      0.96      0.79      9711\n",
            "         dos       0.96      0.79      0.86      7636\n",
            "       probe       0.79      0.63      0.70      2423\n",
            "         r2l       0.98      0.11      0.19      2574\n",
            "         u2r       0.79      0.07      0.14       200\n",
            "\n",
            "    accuracy                           0.76     22544\n",
            "   macro avg       0.84      0.51      0.54     22544\n",
            "weighted avg       0.81      0.76      0.73     22544\n",
            "\n"
          ]
        }
      ],
      "source": [
        "from sklearn.metrics import classification_report, confusion_matrix\n",
        "print(confusion_matrix(test_Y,pred_y))\n",
        "print(classification_report(test_Y, pred_y))"
      ]
    },
    {
      "cell_type": "code",
      "source": [
        "from sklearn.metrics import classification_report, confusion_matrix\n",
        "import timeit\n",
        "\n",
        "#calculate start time\n",
        "start=timeit.default_timer()\n",
        "\n",
        "#create a Gaussion Classifier\n",
        "clf=DecisionTreeClassifier()\n",
        "\n",
        "#train the model using the training sets y_pred=clf.predict(X_text)\n",
        "clf.fit(train_x,train_Y)\n",
        "\n",
        "#calculate stop time\n",
        "stop=timeit.default_timer()\n",
        "train_time= stop - start"
      ],
      "metadata": {
        "id": "ZF6zmewjZQ8j"
      },
      "execution_count": null,
      "outputs": []
    },
    {
      "cell_type": "code",
      "source": [
        "from sklearn.metrics import classification_report, confusion_matrix\n",
        "import timeit\n",
        "\n",
        "#calculate start time\n",
        "#calculate start time\n",
        "start= timeit.default_timer()\n",
        "\n",
        "#predict the model\n",
        "pred_y=clf.predict(test_x)\n",
        "\n",
        "#calculate stop time\n",
        "stop= timeit.default_timer()\n",
        "test_time=stop - start \n",
        "print(confusion_matrix(test_Y, pred_y))\n",
        "print(classification_report(test_Y,pred_y))"
      ],
      "metadata": {
        "id": "YBbLASpXaOUc",
        "outputId": "b1ac5b47-5d61-4858-900b-fba3c6d9ef89",
        "colab": {
          "base_uri": "https://localhost:8080/"
        }
      },
      "execution_count": null,
      "outputs": [
        {
          "output_type": "stream",
          "name": "stdout",
          "text": [
            "[[9351   59  298    2    1]\n",
            " [1418 6126   92    0    0]\n",
            " [ 727  197 1499    0    0]\n",
            " [2323    3    6  231   11]\n",
            " [ 179    0    3    5   13]]\n",
            "              precision    recall  f1-score   support\n",
            "\n",
            "      benign       0.67      0.96      0.79      9711\n",
            "         dos       0.96      0.80      0.87      7636\n",
            "       probe       0.79      0.62      0.69      2423\n",
            "         r2l       0.97      0.09      0.16      2574\n",
            "         u2r       0.52      0.07      0.12       200\n",
            "\n",
            "    accuracy                           0.76     22544\n",
            "   macro avg       0.78      0.51      0.53     22544\n",
            "weighted avg       0.81      0.76      0.73     22544\n",
            "\n"
          ]
        }
      ]
    },
    {
      "cell_type": "code",
      "source": [
        "#Train time\n",
        "print('Train Time(s):', train_time)"
      ],
      "metadata": {
        "colab": {
          "base_uri": "https://localhost:8080/"
        },
        "id": "eLwQI0PHbYso",
        "outputId": "d97d4e7a-d830-4844-dd91-42ec12e97ac9"
      },
      "execution_count": null,
      "outputs": [
        {
          "output_type": "stream",
          "name": "stdout",
          "text": [
            "Train Time(s): 2.34660760700001\n"
          ]
        }
      ]
    },
    {
      "cell_type": "code",
      "source": [
        "#Test Time\n",
        "print(\"Test Time(s):\", test_time)"
      ],
      "metadata": {
        "colab": {
          "base_uri": "https://localhost:8080/"
        },
        "id": "nFE8RKn7b-oc",
        "outputId": "2902fb28-91c8-40c1-cef4-fb6ff1e1e462"
      },
      "execution_count": null,
      "outputs": [
        {
          "output_type": "stream",
          "name": "stdout",
          "text": [
            "Test Time(s): 0.014928675000021485\n"
          ]
        }
      ]
    },
    {
      "cell_type": "markdown",
      "source": [
        "Grid Search Parameter Tuning Decision Tree"
      ],
      "metadata": {
        "id": "aEjcGZ5iZ_Vs"
      }
    },
    {
      "cell_type": "code",
      "source": [
        "from sklearn.tree import DecisionTreeClassifier\n",
        "from sklearn.model_selection import GridSearchCV\n",
        "\n",
        "#create a Gaussian Classifier\n",
        "classifier = DecisionTreeClassifier(random_state=17)\n",
        "\n",
        "#define the hyperparameters to tune\n",
        "param_grid = {\n",
        "    'criterion': ['gini', 'entropy'],\n",
        "    'max_depth': [3, 4, 5, 6, 7, 8],\n",
        "    'min_samples_split': [2, 4, 6, 8],\n",
        "    'min_samples_leaf': [1, 2, 4],\n",
        "    'max_features': ['auto', 'sqrt', 'log2', None]\n",
        "}\n",
        "\n",
        "#Perform grid search to find the best hyperparameters\n",
        "grid_search = GridSearchCV(estimator=classifier, param_grid=param_grid, cv=5, n_jobs=-1)\n",
        "grid_search.fit(train_x, train_Y)\n",
        "\n",
        "#print the best hyperparameters\n",
        "print(grid_search.best_params_)\n"
      ],
      "metadata": {
        "colab": {
          "base_uri": "https://localhost:8080/"
        },
        "id": "thL3E--XRZPa",
        "outputId": "03c5df2b-b1d5-4378-b265-74f547752381"
      },
      "execution_count": null,
      "outputs": [
        {
          "output_type": "stream",
          "name": "stdout",
          "text": [
            "{'criterion': 'entropy', 'max_depth': 8, 'max_features': None, 'min_samples_leaf': 1, 'min_samples_split': 4}\n"
          ]
        }
      ]
    },
    {
      "cell_type": "markdown",
      "source": [
        "Algorithm 2"
      ],
      "metadata": {
        "id": "RMmUwKu3Y8kB"
      }
    },
    {
      "cell_type": "code",
      "source": [
        "import pandas as pd\n",
        "import numpy as np\n",
        "import matplotlib.pyplot as plt\n",
        "import seaborn as sns\n",
        "from sklearn.model_selection import train_test_split\n",
        "from sklearn.ensemble import RandomForestClassifier\n",
        "from sklearn.metrics import accuracy_score, classification_report"
      ],
      "metadata": {
        "id": "uXHF1LMDc_5I"
      },
      "execution_count": null,
      "outputs": []
    },
    {
      "cell_type": "code",
      "source": [
        "\n",
        "!pip install scikit-learn --upgrade"
      ],
      "metadata": {
        "colab": {
          "base_uri": "https://localhost:8080/"
        },
        "id": "kWpoufzljROc",
        "outputId": "799d8afc-2a4a-45e7-9db7-fd8d3013194e"
      },
      "execution_count": null,
      "outputs": [
        {
          "output_type": "stream",
          "name": "stdout",
          "text": [
            "Looking in indexes: https://pypi.org/simple, https://us-python.pkg.dev/colab-wheels/public/simple/\n",
            "Requirement already satisfied: scikit-learn in /usr/local/lib/python3.10/dist-packages (1.2.2)\n",
            "Requirement already satisfied: joblib>=1.1.1 in /usr/local/lib/python3.10/dist-packages (from scikit-learn) (1.2.0)\n",
            "Requirement already satisfied: scipy>=1.3.2 in /usr/local/lib/python3.10/dist-packages (from scikit-learn) (1.10.1)\n",
            "Requirement already satisfied: threadpoolctl>=2.0.0 in /usr/local/lib/python3.10/dist-packages (from scikit-learn) (3.1.0)\n",
            "Requirement already satisfied: numpy>=1.17.3 in /usr/local/lib/python3.10/dist-packages (from scikit-learn) (1.22.4)\n"
          ]
        }
      ]
    },
    {
      "cell_type": "code",
      "source": [
        "# 5-class classification version\n",
        "from sklearn.ensemble import RandomForestClassifier\n",
        "from sklearn.metrics import confusion_matrix, zero_one_loss\n",
        "\n",
        "classifier = RandomForestClassifier(random_state=17)\n",
        "classifier.fit(train_x, train_Y)\n",
        "\n",
        "pred_y = classifier.predict(test_x)\n",
        "\n",
        "results = confusion_matrix(test_Y, pred_y)\n",
        "error = zero_one_loss(test_Y, pred_y)\n",
        "\n",
        "print(results)\n",
        "print(error)"
      ],
      "metadata": {
        "colab": {
          "base_uri": "https://localhost:8080/"
        },
        "id": "tFpTfNELmKAh",
        "outputId": "362efeb7-0037-446c-d49d-cf7c90fe185a"
      },
      "execution_count": null,
      "outputs": [
        {
          "output_type": "stream",
          "name": "stdout",
          "text": [
            "[[9457   67  186    0    1]\n",
            " [1582 5929  125    0    0]\n",
            " [ 807  164 1452    0    0]\n",
            " [2478    0    2   93    1]\n",
            " [ 196    0    0    3    1]]\n",
            "0.2489354151880766\n"
          ]
        }
      ]
    },
    {
      "cell_type": "code",
      "source": [
        "from sklearn.metrics import classification_report, confusion_matrix\n",
        "print(confusion_matrix(test_Y,pred_y))\n",
        "print(classification_report(test_Y, pred_y))"
      ],
      "metadata": {
        "colab": {
          "base_uri": "https://localhost:8080/"
        },
        "id": "nLnsBBDambm2",
        "outputId": "4d8c5707-d5f4-46e9-f6ae-6b79a481beb9"
      },
      "execution_count": null,
      "outputs": [
        {
          "output_type": "stream",
          "name": "stdout",
          "text": [
            "[[9457   67  186    0    1]\n",
            " [1582 5929  125    0    0]\n",
            " [ 807  164 1452    0    0]\n",
            " [2478    0    2   93    1]\n",
            " [ 196    0    0    3    1]]\n",
            "              precision    recall  f1-score   support\n",
            "\n",
            "      benign       0.65      0.97      0.78      9711\n",
            "         dos       0.96      0.78      0.86      7636\n",
            "       probe       0.82      0.60      0.69      2423\n",
            "         r2l       0.97      0.04      0.07      2574\n",
            "         u2r       0.33      0.01      0.01       200\n",
            "\n",
            "    accuracy                           0.75     22544\n",
            "   macro avg       0.75      0.48      0.48     22544\n",
            "weighted avg       0.81      0.75      0.71     22544\n",
            "\n"
          ]
        }
      ]
    },
    {
      "cell_type": "code",
      "source": [
        "from sklearn.metrics import classification_report, confusion_matrix\n",
        "import timeit\n",
        "\n",
        "#calculate start time\n",
        "start=timeit.default_timer()\n",
        "\n",
        "#create a Gaussion Classifier\n",
        "clf=DecisionTreeClassifier()\n",
        "\n",
        "#train the model using the training sets y_pred=clf.predict(X_text)\n",
        "clf.fit(train_x,train_Y)\n",
        "\n",
        "#calculate stop time\n",
        "stop=timeit.default_timer()\n",
        "train_time= stop - start"
      ],
      "metadata": {
        "id": "qf-6eWVTmpz2"
      },
      "execution_count": null,
      "outputs": []
    },
    {
      "cell_type": "code",
      "source": [
        "from sklearn.metrics import classification_report, confusion_matrix\n",
        "import timeit\n",
        "\n",
        "#calculate start time\n",
        "#calculate start time\n",
        "start= timeit.default_timer()\n",
        "\n",
        "#predict the model\n",
        "pred_y=clf.predict(test_x)\n",
        "\n",
        "#calculate stop time\n",
        "stop= timeit.default_timer()\n",
        "test_time=stop - start \n",
        "print(confusion_matrix(test_Y, pred_y))\n",
        "print(classification_report(test_Y,pred_y))"
      ],
      "metadata": {
        "colab": {
          "base_uri": "https://localhost:8080/"
        },
        "id": "8QFR8yRqm1ST",
        "outputId": "047033fa-8445-4377-9bdb-7f68ea8b6ac1"
      },
      "execution_count": null,
      "outputs": [
        {
          "output_type": "stream",
          "name": "stdout",
          "text": [
            "[[9360   59  289    2    1]\n",
            " [1593 5949   94    0    0]\n",
            " [ 680  205 1538    0    0]\n",
            " [2022    4   15  188  345]\n",
            " [ 176    0    2    8   14]]\n",
            "              precision    recall  f1-score   support\n",
            "\n",
            "      benign       0.68      0.96      0.80      9711\n",
            "         dos       0.96      0.78      0.86      7636\n",
            "       probe       0.79      0.63      0.71      2423\n",
            "         r2l       0.95      0.07      0.14      2574\n",
            "         u2r       0.04      0.07      0.05       200\n",
            "\n",
            "    accuracy                           0.76     22544\n",
            "   macro avg       0.68      0.50      0.51     22544\n",
            "weighted avg       0.81      0.76      0.73     22544\n",
            "\n"
          ]
        }
      ]
    },
    {
      "cell_type": "code",
      "source": [
        "#Train time\n",
        "print('Train Time(s):', train_time)"
      ],
      "metadata": {
        "colab": {
          "base_uri": "https://localhost:8080/"
        },
        "id": "-kr8hN4GnDKk",
        "outputId": "8695e093-673c-4169-b57b-bd51e300e803"
      },
      "execution_count": null,
      "outputs": [
        {
          "output_type": "stream",
          "name": "stdout",
          "text": [
            "Train Time(s): 3.346322584000063\n"
          ]
        }
      ]
    },
    {
      "cell_type": "code",
      "source": [
        "#Test Time\n",
        "print(\"Test Time(s):\", test_time)"
      ],
      "metadata": {
        "colab": {
          "base_uri": "https://localhost:8080/"
        },
        "id": "kMErIOcTnNRE",
        "outputId": "0190d420-c200-40ff-e70f-c710bf25e724"
      },
      "execution_count": null,
      "outputs": [
        {
          "output_type": "stream",
          "name": "stdout",
          "text": [
            "Test Time(s): 0.05227808300014658\n"
          ]
        }
      ]
    },
    {
      "cell_type": "code",
      "source": [
        "from sklearn.ensemble import RandomForestClassifier\n",
        "from sklearn.model_selection import GridSearchCV\n",
        "\n",
        "# Define the random forest classifier\n",
        "classifier = RandomForestClassifier(random_state=17)\n",
        "\n",
        "# Define the hyperparameters to tune\n",
        "param_grid = {\n",
        "    'n_estimators': [50, 100, 200],\n",
        "    'max_depth': [5, 10, 20],\n",
        "    'min_samples_split': [2, 5, 10],\n",
        "    'min_samples_leaf': [1, 2, 4]\n",
        "}\n",
        "\n",
        "# Create a GridSearchCV object with the classifier and hyperparameters\n",
        "grid_search = GridSearchCV(\n",
        "    classifier, param_grid, cv=5, n_jobs=-1, verbose=1, scoring='accuracy')\n",
        "\n",
        "# Fit the GridSearchCV object to the training data\n",
        "grid_search.fit(train_x, train_Y)\n",
        "\n",
        "# Print the best hyperparameters and the corresponding accuracy score\n",
        "print('Best hyperparameters: ', grid_search.best_params_)\n",
        "print('Best accuracy score: ', grid_search.best_score_)\n"
      ],
      "metadata": {
        "colab": {
          "base_uri": "https://localhost:8080/"
        },
        "id": "EhIvBBEve9Wg",
        "outputId": "81b733c2-cb85-46de-8a03-cf78c9347e2b"
      },
      "execution_count": null,
      "outputs": [
        {
          "output_type": "stream",
          "name": "stdout",
          "text": [
            "Fitting 5 folds for each of 81 candidates, totalling 405 fits\n",
            "Best hyperparameters:  {'max_depth': 20, 'min_samples_leaf': 1, 'min_samples_split': 2, 'n_estimators': 50}\n",
            "Best accuracy score:  0.99858700106936\n"
          ]
        }
      ]
    },
    {
      "cell_type": "markdown",
      "source": [
        "Algorithm 3"
      ],
      "metadata": {
        "id": "MBxSzULUZYNB"
      }
    },
    {
      "cell_type": "code",
      "source": [
        "import pandas as pd\n",
        "import numpy as np\n",
        "import matplotlib.pyplot as plt\n",
        "import seaborn as sns\n",
        "from sklearn.model_selection import train_test_split\n",
        "from sklearn.ensemble import RandomForestClassifier\n",
        "from sklearn.metrics import accuracy_score, classification_report"
      ],
      "metadata": {
        "id": "AvhAFupKnoio"
      },
      "execution_count": null,
      "outputs": []
    },
    {
      "cell_type": "code",
      "source": [
        "!pip install wget\n",
        "import wget\n",
        "    \n",
        "link_to_data = 'https://raw.githubusercontent.com/SIT719/2020-S2/master/data/Week_5_NSL-KDD-Dataset/training_attack_types.txt?raw=true'\n",
        "DataSet = wget.download(link_to_data) "
      ],
      "metadata": {
        "colab": {
          "base_uri": "https://localhost:8080/"
        },
        "id": "JGxRTz6LXIWy",
        "outputId": "a1a41aa5-a54a-409f-90a0-eccd35613457"
      },
      "execution_count": null,
      "outputs": [
        {
          "output_type": "stream",
          "name": "stdout",
          "text": [
            "Looking in indexes: https://pypi.org/simple, https://us-python.pkg.dev/colab-wheels/public/simple/\n",
            "Collecting wget\n",
            "  Downloading wget-3.2.zip (10 kB)\n",
            "  Preparing metadata (setup.py) ... \u001b[?25l\u001b[?25hdone\n",
            "Building wheels for collected packages: wget\n",
            "  Building wheel for wget (setup.py) ... \u001b[?25l\u001b[?25hdone\n",
            "  Created wheel for wget: filename=wget-3.2-py3-none-any.whl size=9676 sha256=c92bcf7ba3abdb0c25e4b3742a22336fedc23d6558192146ac4bd3bd407a7b62\n",
            "  Stored in directory: /root/.cache/pip/wheels/8b/f1/7f/5c94f0a7a505ca1c81cd1d9208ae2064675d97582078e6c769\n",
            "Successfully built wget\n",
            "Installing collected packages: wget\n",
            "Successfully installed wget-3.2\n"
          ]
        }
      ]
    },
    {
      "cell_type": "code",
      "source": [
        "DataSet\n"
      ],
      "metadata": {
        "colab": {
          "base_uri": "https://localhost:8080/",
          "height": 35
        },
        "id": "A6hJalY6XUh3",
        "outputId": "6e68429b-4779-4ef0-f512-085ecaabd5c4"
      },
      "execution_count": null,
      "outputs": [
        {
          "output_type": "execute_result",
          "data": {
            "text/plain": [
              "'training_attack_types.txt'"
            ],
            "application/vnd.google.colaboratory.intrinsic+json": {
              "type": "string"
            }
          },
          "metadata": {},
          "execution_count": 3
        }
      ]
    },
    {
      "cell_type": "code",
      "source": [
        "header_names = ['duration', 'protocol_type', 'service', 'flag', 'src_bytes', 'dst_bytes', 'land', 'wrong_fragment', 'urgent', 'hot', 'num_failed_logins', 'logged_in', 'num_compromised', 'root_shell', 'su_attempted', 'num_root', 'num_file_creations', 'num_shells', 'num_access_files', 'num_outbound_cmds', 'is_host_login', 'is_guest_login', 'count', 'srv_count', 'serror_rate', 'srv_serror_rate', 'rerror_rate', 'srv_rerror_rate', 'same_srv_rate', 'diff_srv_rate', 'srv_diff_host_rate', 'dst_host_count', 'dst_host_srv_count', 'dst_host_same_srv_rate', 'dst_host_diff_srv_rate', 'dst_host_same_src_port_rate', 'dst_host_srv_diff_host_rate', 'dst_host_serror_rate', 'dst_host_srv_serror_rate', 'dst_host_rerror_rate', 'dst_host_srv_rerror_rate', 'attack_type', 'success_pred']\n",
        "\n",
        "\n",
        "# Differentiating between nominal, binary, and numeric features\n",
        "\n",
        "# root_shell is marked as a continuous feature in the kddcup.names \n",
        "# file, but it is supposed to be a binary feature according to the \n",
        "# dataset documentation\n",
        "\n",
        "# training_attack_types.txt maps each of the 22 different attacks to 1 of 4 categories\n",
        "# file obtained from http://kdd.ics.uci.edu/databases/kddcup99/training_attack_types\n",
        "\n",
        "col_names = np.array(header_names)\n",
        "\n",
        "nominal_idx = [1, 2, 3]\n",
        "binary_idx = [6, 11, 13, 14, 20, 21]\n",
        "numeric_idx = list(set(range(41)).difference(nominal_idx).difference(binary_idx))\n",
        "\n",
        "nominal_cols = col_names[nominal_idx].tolist()\n",
        "binary_cols = col_names[binary_idx].tolist()\n",
        "numeric_cols = col_names[numeric_idx].tolist()"
      ],
      "metadata": {
        "id": "YVYdwIHqXdY9"
      },
      "execution_count": null,
      "outputs": []
    },
    {
      "cell_type": "code",
      "source": [
        "# training_attack_types.txt maps each of the 22 different attacks to 1 of 4 categories\n",
        "# file obtained from http://kdd.ics.uci.edu/databases/kddcup99/training_attack_types\n",
        "\n",
        "category = defaultdict(list)\n",
        "category['benign'].append('normal')\n",
        "\n",
        "with open(DataSet, 'r') as f:\n",
        "    for line in f.readlines():\n",
        "        attack, cat = line.strip().split(' ')\n",
        "        category[cat].append(attack)\n",
        "\n",
        "attack_mapping = dict((v,k) for k in category for v in category[k])"
      ],
      "metadata": {
        "id": "7ps2BLVgXlNZ"
      },
      "execution_count": null,
      "outputs": []
    },
    {
      "cell_type": "code",
      "source": [
        "#Processing Training Data\n",
        "\n",
        "train_file='https://raw.githubusercontent.com/SIT719/2020-S2/master/data/Week_5_NSL-KDD-Dataset/KDDTrain%2B.txt'\n",
        "\n",
        "\n",
        "\n",
        "train_df = pd.read_csv(train_file, names=header_names)\n",
        "\n",
        "train_df['attack_category'] = train_df['attack_type'] \\\n",
        "                                .map(lambda x: attack_mapping[x])\n",
        "\n",
        "train_df.drop(['success_pred'], axis=1, inplace=True)"
      ],
      "metadata": {
        "id": "1RwzfoN9X39r"
      },
      "execution_count": null,
      "outputs": []
    },
    {
      "cell_type": "code",
      "source": [
        "#Processing test Data\n",
        "test_file='https://raw.githubusercontent.com/SIT719/2020-S2/master/data/Week_5_NSL-KDD-Dataset/KDDTest%2B.txt'\n",
        "\n",
        "test_df = pd.read_csv(test_file, names=header_names)\n",
        "test_df['attack_category'] = test_df['attack_type'] \\\n",
        "                                .map(lambda x: attack_mapping[x])\n",
        "test_df.drop(['success_pred'], axis=1, inplace=True)"
      ],
      "metadata": {
        "id": "_cCLo8U5ZjmW"
      },
      "execution_count": null,
      "outputs": []
    },
    {
      "cell_type": "code",
      "source": [
        "!pip install scikit-learn --upgrade"
      ],
      "metadata": {
        "colab": {
          "base_uri": "https://localhost:8080/"
        },
        "id": "thIEtMQHZuwm",
        "outputId": "24926850-512b-4750-a87f-07025b8884d1"
      },
      "execution_count": null,
      "outputs": [
        {
          "output_type": "stream",
          "name": "stdout",
          "text": [
            "Looking in indexes: https://pypi.org/simple, https://us-python.pkg.dev/colab-wheels/public/simple/\n",
            "Requirement already satisfied: scikit-learn in /usr/local/lib/python3.10/dist-packages (1.2.2)\n",
            "Requirement already satisfied: threadpoolctl>=2.0.0 in /usr/local/lib/python3.10/dist-packages (from scikit-learn) (3.1.0)\n",
            "Requirement already satisfied: numpy>=1.17.3 in /usr/local/lib/python3.10/dist-packages (from scikit-learn) (1.22.4)\n",
            "Requirement already satisfied: joblib>=1.1.1 in /usr/local/lib/python3.10/dist-packages (from scikit-learn) (1.2.0)\n",
            "Requirement already satisfied: scipy>=1.3.2 in /usr/local/lib/python3.10/dist-packages (from scikit-learn) (1.10.1)\n"
          ]
        }
      ]
    },
    {
      "cell_type": "code",
      "source": [
        "attack_mapping"
      ],
      "metadata": {
        "colab": {
          "base_uri": "https://localhost:8080/"
        },
        "id": "o3Lx1OyvaDrZ",
        "outputId": "e10b1a4f-9055-41b8-b73b-62dcdcbc8ef3"
      },
      "execution_count": null,
      "outputs": [
        {
          "output_type": "execute_result",
          "data": {
            "text/plain": [
              "{'normal': 'benign',\n",
              " 'apache2': 'dos',\n",
              " 'back': 'dos',\n",
              " 'mailbomb': 'dos',\n",
              " 'processtable': 'dos',\n",
              " 'snmpgetattack': 'dos',\n",
              " 'teardrop': 'dos',\n",
              " 'smurf': 'dos',\n",
              " 'land': 'dos',\n",
              " 'neptune': 'dos',\n",
              " 'pod': 'dos',\n",
              " 'udpstorm': 'dos',\n",
              " 'ps': 'u2r',\n",
              " 'buffer_overflow': 'u2r',\n",
              " 'perl': 'u2r',\n",
              " 'rootkit': 'u2r',\n",
              " 'loadmodule': 'u2r',\n",
              " 'xterm': 'u2r',\n",
              " 'sqlattack': 'u2r',\n",
              " 'httptunnel': 'u2r',\n",
              " 'ftp_write': 'r2l',\n",
              " 'guess_passwd': 'r2l',\n",
              " 'snmpguess': 'r2l',\n",
              " 'imap': 'r2l',\n",
              " 'spy': 'r2l',\n",
              " 'warezclient': 'r2l',\n",
              " 'warezmaster': 'r2l',\n",
              " 'multihop': 'r2l',\n",
              " 'phf': 'r2l',\n",
              " 'named': 'r2l',\n",
              " 'sendmail': 'r2l',\n",
              " 'xlock': 'r2l',\n",
              " 'xsnoop': 'r2l',\n",
              " 'worm': 'probe',\n",
              " 'nmap': 'probe',\n",
              " 'ipsweep': 'probe',\n",
              " 'portsweep': 'probe',\n",
              " 'satan': 'probe',\n",
              " 'mscan': 'probe',\n",
              " 'saint': 'probe'}"
            ]
          },
          "metadata": {},
          "execution_count": 36
        }
      ]
    },
    {
      "cell_type": "code",
      "source": [
        "# 5-class classification version\n",
        "from sklearn.naive_bayes import GaussianNB\n",
        "from sklearn.metrics import confusion_matrix, zero_one_loss\n",
        "\n",
        "classifier = GaussianNB()\n",
        "classifier.fit(train_x, train_Y)\n",
        "\n",
        "pred_y = classifier.predict(test_x)\n",
        "\n",
        "results = confusion_matrix(test_Y, pred_y)\n",
        "error = zero_one_loss(test_Y, pred_y)\n",
        "\n",
        "print(results)\n",
        "print(error)"
      ],
      "metadata": {
        "colab": {
          "base_uri": "https://localhost:8080/"
        },
        "id": "Tbp1FGC_aMj3",
        "outputId": "8a8a0504-99e0-47c8-f939-571351e60add"
      },
      "execution_count": null,
      "outputs": [
        {
          "output_type": "stream",
          "name": "stdout",
          "text": [
            "[[6756   62   10 2599  284]\n",
            " [3400 3162    4 1041   29]\n",
            " [1382  345  237  323  136]\n",
            " [1113    3    6  933  519]\n",
            " [ 115    0    0   22   63]]\n",
            "0.5053672817601136\n"
          ]
        }
      ]
    },
    {
      "cell_type": "code",
      "source": [
        "from sklearn.metrics import classification_report, confusion_matrix\n",
        "print(confusion_matrix(test_Y,pred_y))\n",
        "print(classification_report(test_Y, pred_y))"
      ],
      "metadata": {
        "colab": {
          "base_uri": "https://localhost:8080/"
        },
        "id": "eU6daBmvbuZy",
        "outputId": "64a51266-d7b1-4fd4-b19c-063079e570c3"
      },
      "execution_count": null,
      "outputs": [
        {
          "output_type": "stream",
          "name": "stdout",
          "text": [
            "[[6756   62   10 2599  284]\n",
            " [3400 3162    4 1041   29]\n",
            " [1382  345  237  323  136]\n",
            " [1113    3    6  933  519]\n",
            " [ 115    0    0   22   63]]\n",
            "              precision    recall  f1-score   support\n",
            "\n",
            "      benign       0.53      0.70      0.60      9711\n",
            "         dos       0.89      0.41      0.56      7636\n",
            "       probe       0.92      0.10      0.18      2423\n",
            "         r2l       0.19      0.36      0.25      2574\n",
            "         u2r       0.06      0.32      0.10       200\n",
            "\n",
            "    accuracy                           0.49     22544\n",
            "   macro avg       0.52      0.38      0.34     22544\n",
            "weighted avg       0.65      0.49      0.50     22544\n",
            "\n"
          ]
        }
      ]
    },
    {
      "cell_type": "code",
      "source": [
        "from sklearn.metrics import classification_report, confusion_matrix\n",
        "import timeit\n",
        "\n",
        "#calculate start time\n",
        "start=timeit.default_timer()\n",
        "\n",
        "#create a Gaussion Classifier\n",
        "clf=DecisionTreeClassifier()\n",
        "\n",
        "#train the model using the training sets y_pred=clf.predict(X_text)\n",
        "clf.fit(train_x,train_Y)\n",
        "\n",
        "#calculate stop time\n",
        "stop=timeit.default_timer()\n",
        "train_time= stop - start"
      ],
      "metadata": {
        "id": "0BsD-BZ6b7g-"
      },
      "execution_count": null,
      "outputs": []
    },
    {
      "cell_type": "code",
      "source": [
        "from sklearn.metrics import classification_report, confusion_matrix\n",
        "import timeit\n",
        "\n",
        "#calculate start time\n",
        "#calculate start time\n",
        "start= timeit.default_timer()\n",
        "\n",
        "#predict the model\n",
        "pred_y=clf.predict(test_x)\n",
        "\n",
        "#calculate stop time\n",
        "stop= timeit.default_timer()\n",
        "test_time=stop - start \n",
        "print(confusion_matrix(test_Y, pred_y))\n",
        "print(classification_report(test_Y,pred_y))"
      ],
      "metadata": {
        "colab": {
          "base_uri": "https://localhost:8080/"
        },
        "id": "UWC4sBKjcHCC",
        "outputId": "25ca8d6a-68f8-45cf-9f74-5318715e3367"
      },
      "execution_count": null,
      "outputs": [
        {
          "output_type": "stream",
          "name": "stdout",
          "text": [
            "[[9430   59  220    1    1]\n",
            " [1546 5994   96    0    0]\n",
            " [ 681  217 1525    0    0]\n",
            " [2019    4   14  188  349]\n",
            " [ 172    0    3    7   18]]\n",
            "              precision    recall  f1-score   support\n",
            "\n",
            "      benign       0.68      0.97      0.80      9711\n",
            "         dos       0.96      0.78      0.86      7636\n",
            "       probe       0.82      0.63      0.71      2423\n",
            "         r2l       0.96      0.07      0.14      2574\n",
            "         u2r       0.05      0.09      0.06       200\n",
            "\n",
            "    accuracy                           0.76     22544\n",
            "   macro avg       0.69      0.51      0.51     22544\n",
            "weighted avg       0.82      0.76      0.73     22544\n",
            "\n"
          ]
        }
      ]
    },
    {
      "cell_type": "code",
      "source": [
        "#Train time\n",
        "print('Train Time(s):', train_time)"
      ],
      "metadata": {
        "colab": {
          "base_uri": "https://localhost:8080/"
        },
        "id": "KNH2D4EjcRtA",
        "outputId": "53246f7d-3bef-45e5-80ec-3a8957421f54"
      },
      "execution_count": null,
      "outputs": [
        {
          "output_type": "stream",
          "name": "stdout",
          "text": [
            "Train Time(s): 1.9182792799999788\n"
          ]
        }
      ]
    },
    {
      "cell_type": "code",
      "source": [
        "#Test Time\n",
        "print(\"Test Time(s):\", test_time)"
      ],
      "metadata": {
        "colab": {
          "base_uri": "https://localhost:8080/"
        },
        "id": "v9mdQKVScbvG",
        "outputId": "bd9e08c4-a9f5-4b01-918b-52b21015a6cc"
      },
      "execution_count": null,
      "outputs": [
        {
          "output_type": "stream",
          "name": "stdout",
          "text": [
            "Test Time(s): 0.011404279000089446\n"
          ]
        }
      ]
    },
    {
      "cell_type": "markdown",
      "source": [
        "Algorithm 4"
      ],
      "metadata": {
        "id": "Js9LEaCzchSU"
      }
    },
    {
      "cell_type": "code",
      "source": [
        "# 5-class classification version\n",
        "from sklearn.neighbors import KNeighborsClassifier\n",
        "from sklearn.metrics import confusion_matrix, zero_one_loss\n",
        "\n",
        "classifier = KNeighborsClassifier()\n",
        "classifier.fit(train_x, train_Y)\n",
        "\n",
        "pred_y = classifier.predict(test_x)\n",
        "\n",
        "results = confusion_matrix(test_Y, pred_y)\n",
        "error = zero_one_loss(test_Y, pred_y)\n",
        "\n",
        "print(results)\n",
        "print(error)"
      ],
      "metadata": {
        "colab": {
          "base_uri": "https://localhost:8080/"
        },
        "id": "6vH4GSMBdRTm",
        "outputId": "f91db6c2-49d7-44e1-930b-405cf0db78e1"
      },
      "execution_count": null,
      "outputs": [
        {
          "output_type": "stream",
          "name": "stdout",
          "text": [
            "[[9444   54  207    5    1]\n",
            " [1630 5925   81    0    0]\n",
            " [ 614  180 1629    0    0]\n",
            " [2362    2   40  170    0]\n",
            " [ 170    0   17    4    9]]\n",
            "0.23806777856635908\n"
          ]
        }
      ]
    },
    {
      "cell_type": "code",
      "source": [
        "from sklearn.metrics import classification_report, confusion_matrix\n",
        "print(confusion_matrix(test_Y,pred_y))\n",
        "print(classification_report(test_Y, pred_y))"
      ],
      "metadata": {
        "colab": {
          "base_uri": "https://localhost:8080/"
        },
        "id": "fnRd8jnZd0Ps",
        "outputId": "c35831e6-f0d5-4e9f-956a-38b44164fd27"
      },
      "execution_count": null,
      "outputs": [
        {
          "output_type": "stream",
          "name": "stdout",
          "text": [
            "[[9444   54  207    5    1]\n",
            " [1630 5925   81    0    0]\n",
            " [ 614  180 1629    0    0]\n",
            " [2362    2   40  170    0]\n",
            " [ 170    0   17    4    9]]\n",
            "              precision    recall  f1-score   support\n",
            "\n",
            "      benign       0.66      0.97      0.79      9711\n",
            "         dos       0.96      0.78      0.86      7636\n",
            "       probe       0.83      0.67      0.74      2423\n",
            "         r2l       0.95      0.07      0.12      2574\n",
            "         u2r       0.90      0.04      0.09       200\n",
            "\n",
            "    accuracy                           0.76     22544\n",
            "   macro avg       0.86      0.51      0.52     22544\n",
            "weighted avg       0.82      0.76      0.73     22544\n",
            "\n"
          ]
        }
      ]
    },
    {
      "cell_type": "code",
      "source": [
        "from sklearn.metrics import classification_report, confusion_matrix\n",
        "import timeit\n",
        "\n",
        "#calculate start time\n",
        "start=timeit.default_timer()\n",
        "\n",
        "#create a Gaussion Classifier\n",
        "clf=DecisionTreeClassifier()\n",
        "\n",
        "#train the model using the training sets y_pred=clf.predict(X_text)\n",
        "clf.fit(train_x,train_Y)\n",
        "\n",
        "#calculate stop time\n",
        "stop=timeit.default_timer()\n",
        "train_time= stop - start"
      ],
      "metadata": {
        "id": "8e9BV8y4eDf5"
      },
      "execution_count": null,
      "outputs": []
    },
    {
      "cell_type": "code",
      "source": [
        "from sklearn.metrics import classification_report, confusion_matrix\n",
        "import timeit\n",
        "\n",
        "#calculate start time\n",
        "#calculate start time\n",
        "start= timeit.default_timer()\n",
        "\n",
        "#predict the model\n",
        "pred_y=clf.predict(test_x)\n",
        "\n",
        "#calculate stop time\n",
        "stop= timeit.default_timer()\n",
        "test_time=stop - start \n",
        "print(confusion_matrix(test_Y, pred_y))\n",
        "print(classification_report(test_Y,pred_y))"
      ],
      "metadata": {
        "colab": {
          "base_uri": "https://localhost:8080/"
        },
        "id": "n5Dp7GsJeSCw",
        "outputId": "6b14f189-47c4-4057-f3e0-ca039f17e501"
      },
      "execution_count": null,
      "outputs": [
        {
          "output_type": "stream",
          "name": "stdout",
          "text": [
            "[[9352   59  299    1    0]\n",
            " [1543 5999   94    0    0]\n",
            " [ 701  188 1534    0    0]\n",
            " [2335    4    7  224    4]\n",
            " [ 177    0    4    4   15]]\n",
            "              precision    recall  f1-score   support\n",
            "\n",
            "      benign       0.66      0.96      0.79      9711\n",
            "         dos       0.96      0.79      0.86      7636\n",
            "       probe       0.79      0.63      0.70      2423\n",
            "         r2l       0.98      0.09      0.16      2574\n",
            "         u2r       0.79      0.07      0.14       200\n",
            "\n",
            "    accuracy                           0.76     22544\n",
            "   macro avg       0.84      0.51      0.53     22544\n",
            "weighted avg       0.81      0.76      0.73     22544\n",
            "\n"
          ]
        }
      ]
    },
    {
      "cell_type": "code",
      "source": [
        "#Train time\n",
        "print('Train Time(s):', train_time)"
      ],
      "metadata": {
        "colab": {
          "base_uri": "https://localhost:8080/"
        },
        "id": "rXp1IuMKekMk",
        "outputId": "01c1140b-fab4-402e-be7c-97601a9a4336"
      },
      "execution_count": null,
      "outputs": [
        {
          "output_type": "stream",
          "name": "stdout",
          "text": [
            "Train Time(s): 1.692796351999732\n"
          ]
        }
      ]
    },
    {
      "cell_type": "code",
      "source": [
        "#Test Time\n",
        "print(\"Test Time(s):\", test_time)"
      ],
      "metadata": {
        "colab": {
          "base_uri": "https://localhost:8080/"
        },
        "id": "OjlmlzGOes6-",
        "outputId": "1ce9a2a3-f585-43d8-8ade-dc6503608f0e"
      },
      "execution_count": null,
      "outputs": [
        {
          "output_type": "stream",
          "name": "stdout",
          "text": [
            "Test Time(s): 0.014222598000060316\n"
          ]
        }
      ]
    },
    {
      "cell_type": "markdown",
      "source": [
        "Algorithm 5"
      ],
      "metadata": {
        "id": "ZqqWAW5Ceu_n"
      }
    },
    {
      "cell_type": "code",
      "source": [
        "# 5-class classification version\n",
        "from sklearn.svm import SVC\n",
        "from sklearn.metrics import confusion_matrix, zero_one_loss\n",
        "\n",
        "classifier = SVC()\n",
        "classifier.fit(train_x, train_Y)\n",
        "\n",
        "pred_y = classifier.predict(test_x)\n",
        "\n",
        "results = confusion_matrix(test_Y, pred_y)\n",
        "error = zero_one_loss(test_Y, pred_y)\n",
        "\n",
        "print(results)\n",
        "print(error)"
      ],
      "metadata": {
        "colab": {
          "base_uri": "https://localhost:8080/"
        },
        "id": "1rhaj7weey64",
        "outputId": "1a7baf6c-7b9e-4980-e98a-9fc2d8d7cbfb"
      },
      "execution_count": null,
      "outputs": [
        {
          "output_type": "stream",
          "name": "stdout",
          "text": [
            "[[9462   62  187    0    0]\n",
            " [1882 5693   61    0    0]\n",
            " [ 836  175 1412    0    0]\n",
            " [2318    0    4  252    0]\n",
            " [ 177    0   15    3    5]]\n",
            "0.2537260468417317\n"
          ]
        }
      ]
    },
    {
      "cell_type": "code",
      "source": [
        "from sklearn.metrics import classification_report, confusion_matrix\n",
        "print(confusion_matrix(test_Y,pred_y))\n",
        "print(classification_report(test_Y, pred_y))"
      ],
      "metadata": {
        "colab": {
          "base_uri": "https://localhost:8080/"
        },
        "id": "c8QIPqgqfk77",
        "outputId": "985d178b-b818-4900-fb3f-3d6bdd5545da"
      },
      "execution_count": null,
      "outputs": [
        {
          "output_type": "stream",
          "name": "stdout",
          "text": [
            "[[9462   62  187    0    0]\n",
            " [1882 5693   61    0    0]\n",
            " [ 836  175 1412    0    0]\n",
            " [2318    0    4  252    0]\n",
            " [ 177    0   15    3    5]]\n",
            "              precision    recall  f1-score   support\n",
            "\n",
            "      benign       0.64      0.97      0.78      9711\n",
            "         dos       0.96      0.75      0.84      7636\n",
            "       probe       0.84      0.58      0.69      2423\n",
            "         r2l       0.99      0.10      0.18      2574\n",
            "         u2r       1.00      0.03      0.05       200\n",
            "\n",
            "    accuracy                           0.75     22544\n",
            "   macro avg       0.89      0.49      0.51     22544\n",
            "weighted avg       0.82      0.75      0.71     22544\n",
            "\n"
          ]
        }
      ]
    },
    {
      "cell_type": "code",
      "source": [
        "from sklearn.metrics import classification_report, confusion_matrix\n",
        "import timeit\n",
        "\n",
        "#calculate start time\n",
        "start=timeit.default_timer()\n",
        "\n",
        "#create a Gaussion Classifier\n",
        "clf=DecisionTreeClassifier()\n",
        "\n",
        "#train the model using the training sets y_pred=clf.predict(X_text)\n",
        "clf.fit(train_x,train_Y)\n",
        "\n",
        "#calculate stop time\n",
        "stop=timeit.default_timer()\n",
        "train_time= stop - start"
      ],
      "metadata": {
        "id": "4-5w6Qztf1Ep"
      },
      "execution_count": null,
      "outputs": []
    },
    {
      "cell_type": "code",
      "source": [
        "from sklearn.metrics import classification_report, confusion_matrix\n",
        "import timeit\n",
        "\n",
        "#calculate start time\n",
        "#calculate start time\n",
        "start= timeit.default_timer()\n",
        "\n",
        "#predict the model\n",
        "pred_y=clf.predict(test_x)\n",
        "\n",
        "#calculate stop time\n",
        "stop= timeit.default_timer()\n",
        "test_time=stop - start \n",
        "print(confusion_matrix(test_Y, pred_y))\n",
        "print(classification_report(test_Y,pred_y))"
      ],
      "metadata": {
        "colab": {
          "base_uri": "https://localhost:8080/"
        },
        "id": "ASnE1JN_gCvO",
        "outputId": "57c93359-80d1-4ced-deea-f13403322ac3"
      },
      "execution_count": null,
      "outputs": [
        {
          "output_type": "stream",
          "name": "stdout",
          "text": [
            "[[9353   57  298    2    1]\n",
            " [1416 6125   95    0    0]\n",
            " [ 696  241 1486    0    0]\n",
            " [2326    1   14  227    6]\n",
            " [ 174    0    3    4   19]]\n",
            "              precision    recall  f1-score   support\n",
            "\n",
            "      benign       0.67      0.96      0.79      9711\n",
            "         dos       0.95      0.80      0.87      7636\n",
            "       probe       0.78      0.61      0.69      2423\n",
            "         r2l       0.97      0.09      0.16      2574\n",
            "         u2r       0.73      0.10      0.17       200\n",
            "\n",
            "    accuracy                           0.76     22544\n",
            "   macro avg       0.82      0.51      0.54     22544\n",
            "weighted avg       0.81      0.76      0.73     22544\n",
            "\n"
          ]
        }
      ]
    },
    {
      "cell_type": "code",
      "source": [
        "#Train time\n",
        "print('Train Time(s):', train_time)"
      ],
      "metadata": {
        "colab": {
          "base_uri": "https://localhost:8080/"
        },
        "id": "BaZKCsn2gOAP",
        "outputId": "f7d1030d-82d4-4a56-c953-647061093c91"
      },
      "execution_count": null,
      "outputs": [
        {
          "output_type": "stream",
          "name": "stdout",
          "text": [
            "Train Time(s): 1.692796351999732\n"
          ]
        }
      ]
    },
    {
      "cell_type": "code",
      "source": [
        "#Test Time\n",
        "print(\"Test Time(s):\", test_time)"
      ],
      "metadata": {
        "colab": {
          "base_uri": "https://localhost:8080/"
        },
        "id": "gWYRyaK-gUOo",
        "outputId": "4f5043e2-17fb-4e2c-affc-054c0e8f22c6"
      },
      "execution_count": null,
      "outputs": [
        {
          "output_type": "stream",
          "name": "stdout",
          "text": [
            "Test Time(s): 0.012169589000222913\n"
          ]
        }
      ]
    },
    {
      "cell_type": "markdown",
      "source": [
        "Algorithm 6"
      ],
      "metadata": {
        "id": "mTwUw5vMgd83"
      }
    },
    {
      "cell_type": "code",
      "source": [
        "# 5-class classification version\n",
        "from sklearn.ensemble import GradientBoostingClassifier\n",
        "from sklearn.metrics import confusion_matrix, zero_one_loss\n",
        "\n",
        "classifier =GradientBoostingClassifier()\n",
        "classifier.fit(train_x, train_Y)\n",
        "\n",
        "pred_y = classifier.predict(test_x)\n",
        "\n",
        "results = confusion_matrix(test_Y, pred_y)\n",
        "error = zero_one_loss(test_Y, pred_y)\n",
        "\n",
        "print(results)\n",
        "print(error)\n"
      ],
      "metadata": {
        "colab": {
          "base_uri": "https://localhost:8080/"
        },
        "id": "UHeFdndGggbf",
        "outputId": "49b1d990-e4fc-47c8-e510-dfebea3b7a01"
      },
      "execution_count": null,
      "outputs": [
        {
          "output_type": "stream",
          "name": "stdout",
          "text": [
            "[[9426   72  207    3    3]\n",
            " [1610 5993   33    0    0]\n",
            " [ 473  106 1617  227    0]\n",
            " [2264    0    5  303    2]\n",
            " [ 174    0    6   11    9]]\n",
            "0.23048261178140528\n"
          ]
        }
      ]
    },
    {
      "cell_type": "code",
      "source": [
        "from sklearn.metrics import classification_report, confusion_matrix\n",
        "print(confusion_matrix(test_Y,pred_y))\n",
        "print(classification_report(test_Y, pred_y))"
      ],
      "metadata": {
        "colab": {
          "base_uri": "https://localhost:8080/"
        },
        "id": "yeRisrk7mXab",
        "outputId": "cc819c6f-4845-4286-a284-20be04f9d965"
      },
      "execution_count": null,
      "outputs": [
        {
          "output_type": "stream",
          "name": "stdout",
          "text": [
            "[[9426   72  207    3    3]\n",
            " [1610 5993   33    0    0]\n",
            " [ 473  106 1617  227    0]\n",
            " [2264    0    5  303    2]\n",
            " [ 174    0    6   11    9]]\n",
            "              precision    recall  f1-score   support\n",
            "\n",
            "      benign       0.68      0.97      0.80      9711\n",
            "         dos       0.97      0.78      0.87      7636\n",
            "       probe       0.87      0.67      0.75      2423\n",
            "         r2l       0.56      0.12      0.19      2574\n",
            "         u2r       0.64      0.04      0.08       200\n",
            "\n",
            "    accuracy                           0.77     22544\n",
            "   macro avg       0.74      0.52      0.54     22544\n",
            "weighted avg       0.78      0.77      0.74     22544\n",
            "\n"
          ]
        }
      ]
    },
    {
      "cell_type": "code",
      "source": [
        "from sklearn.metrics import classification_report, confusion_matrix\n",
        "import timeit\n",
        "\n",
        "#calculate start time\n",
        "start=timeit.default_timer()\n",
        "\n",
        "#create a Gaussion Classifier\n",
        "clf=DecisionTreeClassifier()\n",
        "\n",
        "#train the model using the training sets y_pred=clf.predict(X_text)\n",
        "clf.fit(train_x,train_Y)\n",
        "\n",
        "#calculate stop time\n",
        "stop=timeit.default_timer()\n",
        "train_time= stop - start"
      ],
      "metadata": {
        "id": "Fqasqm_Omd9y"
      },
      "execution_count": null,
      "outputs": []
    },
    {
      "cell_type": "code",
      "source": [
        "from sklearn.metrics import classification_report, confusion_matrix\n",
        "import timeit\n",
        "\n",
        "#calculate start time\n",
        "#calculate start time\n",
        "start= timeit.default_timer()\n",
        "\n",
        "#predict the model\n",
        "pred_y=clf.predict(test_x)\n",
        "\n",
        "#calculate stop time\n",
        "stop= timeit.default_timer()\n",
        "test_time=stop - start \n",
        "print(confusion_matrix(test_Y, pred_y))\n",
        "print(classification_report(test_Y,pred_y))"
      ],
      "metadata": {
        "colab": {
          "base_uri": "https://localhost:8080/"
        },
        "id": "_Lu_u0uemkd_",
        "outputId": "12ee5f45-a378-4003-a99a-158b3b7de113"
      },
      "execution_count": null,
      "outputs": [
        {
          "output_type": "stream",
          "name": "stdout",
          "text": [
            "[[9360   59  289    3    0]\n",
            " [1419 6126   91    0    0]\n",
            " [ 715  227 1481    0    0]\n",
            " [2324    2   10  231    7]\n",
            " [ 176    0    2    5   17]]\n",
            "              precision    recall  f1-score   support\n",
            "\n",
            "      benign       0.67      0.96      0.79      9711\n",
            "         dos       0.96      0.80      0.87      7636\n",
            "       probe       0.79      0.61      0.69      2423\n",
            "         r2l       0.97      0.09      0.16      2574\n",
            "         u2r       0.71      0.09      0.15       200\n",
            "\n",
            "    accuracy                           0.76     22544\n",
            "   macro avg       0.82      0.51      0.53     22544\n",
            "weighted avg       0.81      0.76      0.73     22544\n",
            "\n"
          ]
        }
      ]
    },
    {
      "cell_type": "code",
      "source": [
        "#Train time\n",
        "print('Train Time(s):', train_time)"
      ],
      "metadata": {
        "colab": {
          "base_uri": "https://localhost:8080/"
        },
        "id": "h1ei7_2mmrTY",
        "outputId": "ac4fc35a-7b80-400a-e2eb-29715cc4336f"
      },
      "execution_count": null,
      "outputs": [
        {
          "output_type": "stream",
          "name": "stdout",
          "text": [
            "Train Time(s): 1.7049054790004448\n"
          ]
        }
      ]
    },
    {
      "cell_type": "code",
      "source": [
        "#Test Time\n",
        "print(\"Test Time(s):\", test_time)"
      ],
      "metadata": {
        "colab": {
          "base_uri": "https://localhost:8080/"
        },
        "id": "rdQiHkIpmwn-",
        "outputId": "713eab0d-df3b-4389-be0a-43a6483c498c"
      },
      "execution_count": null,
      "outputs": [
        {
          "output_type": "stream",
          "name": "stdout",
          "text": [
            "Test Time(s): 0.013431579000098282\n"
          ]
        }
      ]
    }
  ],
  "metadata": {
    "kernelspec": {
      "display_name": "Python 3",
      "language": "python",
      "name": "python3"
    },
    "language_info": {
      "codemirror_mode": {
        "name": "ipython",
        "version": 3
      },
      "file_extension": ".py",
      "mimetype": "text/x-python",
      "name": "python",
      "nbconvert_exporter": "python",
      "pygments_lexer": "ipython3",
      "version": "3.7.1"
    },
    "colab": {
      "provenance": [],
      "include_colab_link": true
    }
  },
  "nbformat": 4,
  "nbformat_minor": 0
}